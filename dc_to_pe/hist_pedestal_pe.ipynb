{
 "cells": [
  {
   "cell_type": "code",
   "execution_count": 19,
   "metadata": {},
   "outputs": [
    {
     "name": "stdout",
     "output_type": "stream",
     "text": [
      "The autoreload extension is already loaded. To reload it, use:\n",
      "  %reload_ext autoreload\n",
      "\n",
      " Read 53000 total events  in files\n",
      "\n",
      "['/media/pawel1/ADATA HD330/20190926/LST-1.4.Run01402.0000.fits.fz', '/media/pawel1/ADATA HD330/20190926/LST-1.3.Run01402.0000.fits.fz', '/media/pawel1/ADATA HD330/20190926/LST-1.2.Run01402.0000.fits.fz', '/media/pawel1/ADATA HD330/20190926/LST-1.1.Run01402.0000.fits.fz'] \n"
     ]
    }
   ],
   "source": [
    "%load_ext autoreload\n",
    "%autoreload 2\n",
    "\n",
    "from ctapipe.io import event_source\n",
    "import sys\n",
    " \n",
    "from matplotlib import pyplot as plt\n",
    "import numpy as np\n",
    "%matplotlib inline\n",
    "import sys\n",
    "from scipy.stats import norm\n",
    "from traitlets.config.loader import Config \n",
    "from ctapipe import utils\n",
    "\n",
    "# ctapipe modules\n",
    "from ctapipe.visualization import CameraDisplay\n",
    "from ctapipe.plotting.camera import CameraPlotter\n",
    "from ctapipe.image.extractor import *\n",
    "from ctapipe.io.containers import PedestalContainer\n",
    "from ctapipe.io.hdf5tableio import HDF5TableWriter, HDF5TableReader\n",
    "from lstchain.calib.camera.r0 import LSTR0Corrections\n",
    "from lstchain.calib.camera.calibrator import LSTCameraCalibrator\n",
    "from lstchain.calib.camera.calibrator import LSTCameraCalibrator\n",
    "\n",
    "\n",
    "\n",
    "\n",
    "# r0 to r1 calibrator\n",
    "r0_r1_calibrator = LSTR0Corrections(\n",
    "    pedestal_path=\"/media/pawel1/ADATA HD330/20190926/pedestal_1402_0000_3.fits\",\n",
    "    r1_sample_start=2,r1_sample_end=38, tel_id=1)\n",
    "\n",
    "# r1 to dl1 calibrator\n",
    "\n",
    "\n",
    "inp=\"calibration_run1409.hdf5\"\n",
    "charge_config = Config({\n",
    "    \"LocalPeakWindowSum\": {\n",
    "        \"window_shift\": 4,\n",
    "        \"window_width\": 11 \n",
    "    }\n",
    "})\n",
    "\n",
    "r1_dl1_calibrator = LSTCameraCalibrator(calibration_path = inp,\n",
    "                               image_extractor=\"LocalPeakWindowSum\",\n",
    "                               config=charge_config, allowed_tels=[1])\n",
    "\n",
    "# shower events\n",
    "run = 1402\n",
    "#datadir = '/ctadata/franca/LST' \n",
    "datadir = '/media/pawel1/ADATA HD330/20190926'\n",
    "file = f'{datadir}/LST-1.1.Run0{run}.0000.fits.fz'\n",
    "reader = event_source(file, max_events=1000)\n",
    "\n",
    "# useful variables\n",
    "channel=['HG','LG']\n",
    "tel_id=1 # LST1 for the moment\n",
    "\n",
    "print(f\"\\n Read {len(reader.multi_file)} total events  in files\\n\")\n",
    "print(f\"{reader.file_list} \")"
   ]
  },
  {
   "cell_type": "code",
   "execution_count": 20,
   "metadata": {},
   "outputs": [],
   "source": [
    "waveform_list = []\n",
    "for i, event in enumerate(reader):\n",
    "    \n",
    "    # calibrate r0 --> r1        \n",
    "    r0_r1_calibrator.calibrate(event)\n",
    "   \n",
    "    \n",
    "    # if triggerd event\n",
    "    if event.r0.tel[tel_id].trigger_type == 1:                   \n",
    "        \n",
    "        # calibrate r1 --> dl1\n",
    "        r1_dl1_calibrator(event)\n",
    "        waveform_list.extend(event.dl0.tel[tel_id].waveform[0, 150])"
   ]
  },
  {
   "cell_type": "code",
   "execution_count": 26,
   "metadata": {},
   "outputs": [
    {
     "data": {
      "image/png": "[encoded data removed]",
      "text/plain": [
       "<Figure size 432x288 with 1 Axes>"
      ]
     },
     "metadata": {
      "needs_background": "light"
     },
     "output_type": "display_data"
    }
   ],
   "source": [
    "plt.hist(waveform_list, bins=10, histtype='step')\n",
    "plt.yscale('log')"
   ]
  },
  {
   "cell_type": "code",
   "execution_count": 22,
   "metadata": {},
   "outputs": [
    {
     "data": {
      "text/plain": [
       "0.07225910980638248"
      ]
     },
     "execution_count": 22,
     "metadata": {},
     "output_type": "execute_result"
    }
   ],
   "source": [
    "np.std(waveform_list)"
   ]
  },
  {
   "cell_type": "code",
   "execution_count": 23,
   "metadata": {},
   "outputs": [
    {
     "data": {
      "text/plain": [
       "-0.05116631831785028"
      ]
     },
     "execution_count": 23,
     "metadata": {},
     "output_type": "execute_result"
    }
   ],
   "source": [
    "np.mean(waveform_list)"
   ]
  },
  {
   "cell_type": "code",
   "execution_count": null,
   "metadata": {},
   "outputs": [],
   "source": []
  }
 ],
 "metadata": {
  "kernelspec": {
   "display_name": "Python 3",
   "language": "python",
   "name": "python3"
  },
  "language_info": {
   "codemirror_mode": {
    "name": "ipython",
    "version": 3
   },
   "file_extension": ".py",
   "mimetype": "text/x-python",
   "name": "python",
   "nbconvert_exporter": "python",
   "pygments_lexer": "ipython3",
   "version": "3.7.3"
  }
 },
 "nbformat": 4,
 "nbformat_minor": 2
}
